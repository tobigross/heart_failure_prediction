{
 "cells": [
  {
   "cell_type": "code",
   "execution_count": 41,
   "id": "6ef2734e",
   "metadata": {},
   "outputs": [],
   "source": [
    "from sklearn.model_selection import train_test_split\n",
    "from sklearn.ensemble import RandomForestClassifier\n",
    "from sklearn.metrics import classification_report\n",
    "import joblib\n",
    "import pandas as pd\n",
    "import seaborn as sns\n",
    "import matplotlib.pyplot as plt"
   ]
  },
  {
   "cell_type": "code",
   "execution_count": 42,
   "id": "56cd9243",
   "metadata": {},
   "outputs": [],
   "source": [
    "df = pd.read_csv(\"../data/heart.csv\")"
   ]
  },
  {
   "cell_type": "code",
   "execution_count": 43,
   "id": "dd7119cc",
   "metadata": {},
   "outputs": [],
   "source": [
    "X = df.drop(\"HeartDisease\", axis=1)\n",
    "y = df[\"HeartDisease\"]\n",
    "\n",
    "# Vorverarbeitung (z. B. OneHotEncoding für Kategorien)\n",
    "X = pd.get_dummies(X)\n",
    "#speichern der reihenfolge für API\n",
    "with open(\"../ml/training_columns.txt\", \"w\") as f:\n",
    "    for col in X.columns:\n",
    "        f.write(f\"{col}\\n\")\n",
    "\n"
   ]
  },
  {
   "cell_type": "code",
   "execution_count": 44,
   "id": "6f8a654a",
   "metadata": {},
   "outputs": [
    {
     "name": "stdout",
     "output_type": "stream",
     "text": [
      "     Age  RestingBP  Cholesterol  FastingBS  MaxHR  Oldpeak  Sex_F  Sex_M  \\\n",
      "0     40        140          289          0    172      0.0  False   True   \n",
      "1     49        160          180          0    156      1.0   True  False   \n",
      "2     37        130          283          0     98      0.0  False   True   \n",
      "3     48        138          214          0    108      1.5   True  False   \n",
      "4     54        150          195          0    122      0.0  False   True   \n",
      "..   ...        ...          ...        ...    ...      ...    ...    ...   \n",
      "913   45        110          264          0    132      1.2  False   True   \n",
      "914   68        144          193          1    141      3.4  False   True   \n",
      "915   57        130          131          0    115      1.2  False   True   \n",
      "916   57        130          236          0    174      0.0   True  False   \n",
      "917   38        138          175          0    173      0.0  False   True   \n",
      "\n",
      "     ChestPainType_ASY  ChestPainType_ATA  ChestPainType_NAP  \\\n",
      "0                False               True              False   \n",
      "1                False              False               True   \n",
      "2                False               True              False   \n",
      "3                 True              False              False   \n",
      "4                False              False               True   \n",
      "..                 ...                ...                ...   \n",
      "913              False              False              False   \n",
      "914               True              False              False   \n",
      "915               True              False              False   \n",
      "916              False               True              False   \n",
      "917              False              False               True   \n",
      "\n",
      "     ChestPainType_TA  RestingECG_LVH  RestingECG_Normal  RestingECG_ST  \\\n",
      "0               False           False               True          False   \n",
      "1               False           False               True          False   \n",
      "2               False           False              False           True   \n",
      "3               False           False               True          False   \n",
      "4               False           False               True          False   \n",
      "..                ...             ...                ...            ...   \n",
      "913              True           False               True          False   \n",
      "914             False           False               True          False   \n",
      "915             False           False               True          False   \n",
      "916             False            True              False          False   \n",
      "917             False           False               True          False   \n",
      "\n",
      "     ExerciseAngina_N  ExerciseAngina_Y  ST_Slope_Down  ST_Slope_Flat  \\\n",
      "0                True             False          False          False   \n",
      "1                True             False          False           True   \n",
      "2                True             False          False          False   \n",
      "3               False              True          False           True   \n",
      "4                True             False          False          False   \n",
      "..                ...               ...            ...            ...   \n",
      "913              True             False          False           True   \n",
      "914              True             False          False           True   \n",
      "915             False              True          False           True   \n",
      "916              True             False          False           True   \n",
      "917              True             False          False          False   \n",
      "\n",
      "     ST_Slope_Up  \n",
      "0           True  \n",
      "1          False  \n",
      "2           True  \n",
      "3          False  \n",
      "4           True  \n",
      "..           ...  \n",
      "913        False  \n",
      "914        False  \n",
      "915        False  \n",
      "916        False  \n",
      "917         True  \n",
      "\n",
      "[918 rows x 20 columns]\n"
     ]
    }
   ],
   "source": [
    "print(X)"
   ]
  },
  {
   "cell_type": "code",
   "execution_count": 45,
   "id": "a587724d",
   "metadata": {},
   "outputs": [],
   "source": [
    "X_train, X_test, y_train, y_test = train_test_split(X, y, test_size=0.3, random_state=42)\n"
   ]
  },
  {
   "cell_type": "markdown",
   "id": "024ff555",
   "metadata": {},
   "source": [
    "First sklearn"
   ]
  },
  {
   "cell_type": "code",
   "execution_count": 46,
   "id": "55f5106b",
   "metadata": {},
   "outputs": [],
   "source": [
    "model = RandomForestClassifier()"
   ]
  },
  {
   "cell_type": "markdown",
   "id": "675a03fa",
   "metadata": {},
   "source": [
    "precision: $p=tp/(tp+fp)$,\n",
    "recall: $r=tp/(tp+fn)$,\n",
    "$F_\\beta$: weighted precision and recall mean= $(1+\\beta)^2 \\frac{p \\cdot r}{\\beta^2 p+recall}$"
   ]
  },
  {
   "cell_type": "code",
   "execution_count": 47,
   "id": "6e2a3f58",
   "metadata": {},
   "outputs": [
    {
     "name": "stdout",
     "output_type": "stream",
     "text": [
      "              precision    recall  f1-score   support\n",
      "\n",
      "           0       0.83      0.89      0.86       112\n",
      "           1       0.92      0.88      0.90       164\n",
      "\n",
      "    accuracy                           0.88       276\n",
      "   macro avg       0.88      0.89      0.88       276\n",
      "weighted avg       0.89      0.88      0.88       276\n",
      "\n"
     ]
    },
    {
     "data": {
      "text/plain": [
       "['../ml/model_sklearn.pkl']"
      ]
     },
     "execution_count": 47,
     "metadata": {},
     "output_type": "execute_result"
    }
   ],
   "source": [
    "model.fit(X_train, y_train)\n",
    "\n",
    "print(classification_report(y_test, model.predict(X_test)))\n",
    "joblib.dump(model, \"../ml/model_sklearn.pkl\")"
   ]
  },
  {
   "cell_type": "markdown",
   "id": "547a98e7",
   "metadata": {},
   "source": [
    "High scores on first try "
   ]
  },
  {
   "cell_type": "markdown",
   "id": "38af47eb",
   "metadata": {},
   "source": [
    "Now PyTorch\n"
   ]
  },
  {
   "cell_type": "code",
   "execution_count": 48,
   "id": "1edc799d",
   "metadata": {},
   "outputs": [],
   "source": [
    "import torch\n",
    "import numpy as np\n",
    "import torch.nn as nn\n",
    "from torch.utils.data import TensorDataset, DataLoader\n",
    "import sys\n",
    "import os\n",
    "sys.path.append(os.path.abspath(\"..\"))\n",
    "from ml.model import HeartModel"
   ]
  },
  {
   "cell_type": "code",
   "execution_count": 49,
   "id": "33551094",
   "metadata": {},
   "outputs": [],
   "source": [
    "X_train_tensor = torch.tensor(X_train.values.astype(np.float32))\n",
    "y_train_tensor = torch.tensor(y_train.values.astype(np.int64))\n",
    "\n",
    "X_test_tensor = torch.tensor(X_test.values.astype(np.float32))\n",
    "y_test_tensor = torch.tensor(y_test.values.astype(np.int64))"
   ]
  },
  {
   "cell_type": "code",
   "execution_count": 50,
   "id": "e59037d4",
   "metadata": {},
   "outputs": [
    {
     "name": "stdout",
     "output_type": "stream",
     "text": [
      "Epoch 1: Loss = 0.3069\n",
      "Epoch 2: Loss = 0.3144\n",
      "Epoch 3: Loss = 0.2521\n",
      "Epoch 4: Loss = 1.9700\n",
      "Epoch 5: Loss = 0.3968\n",
      "Epoch 6: Loss = 0.0826\n",
      "Epoch 7: Loss = 0.0740\n",
      "Epoch 8: Loss = 0.0183\n",
      "Epoch 9: Loss = 0.5940\n",
      "Epoch 10: Loss = 1.2592\n",
      "Epoch 11: Loss = 1.1213\n",
      "Epoch 12: Loss = 0.1922\n",
      "Epoch 13: Loss = 0.2317\n",
      "Epoch 14: Loss = 0.0348\n",
      "Epoch 15: Loss = 0.5112\n",
      "Epoch 16: Loss = 0.1751\n",
      "Epoch 17: Loss = 0.4008\n",
      "Epoch 18: Loss = 0.1209\n",
      "Epoch 19: Loss = 0.4517\n",
      "Epoch 20: Loss = 0.0738\n",
      "Epoch 21: Loss = 0.1296\n",
      "Epoch 22: Loss = 1.5518\n",
      "Epoch 23: Loss = 0.0789\n",
      "Epoch 24: Loss = 0.0435\n",
      "Epoch 25: Loss = 0.7086\n",
      "Epoch 26: Loss = 0.2028\n",
      "Epoch 27: Loss = 0.1052\n",
      "Epoch 28: Loss = 0.6733\n",
      "Epoch 29: Loss = 0.0184\n",
      "Epoch 30: Loss = 0.0742\n"
     ]
    }
   ],
   "source": [
    "model = HeartModel(input_dim=X_train.shape[1])\n",
    "loss_fn = nn.CrossEntropyLoss()\n",
    "optimizer = torch.optim.Adam(model.parameters(), lr=0.01)\n",
    "\n",
    "train_data = TensorDataset(X_train_tensor, y_train_tensor)\n",
    "train_loader = DataLoader(train_data, batch_size=32, shuffle=True)\n",
    "\n",
    "# Training Loop\n",
    "for epoch in range(30):\n",
    "    for xb, yb in train_loader:\n",
    "        pred = model(xb)\n",
    "        loss = loss_fn(pred, yb)\n",
    "        optimizer.zero_grad()\n",
    "        loss.backward()\n",
    "        optimizer.step()\n",
    "    print(f\"Epoch {epoch+1}: Loss = {loss.item():.4f}\")"
   ]
  },
  {
   "cell_type": "markdown",
   "id": "e67bff03",
   "metadata": {},
   "source": [
    "Overfitting in epoch 20?"
   ]
  },
  {
   "cell_type": "code",
   "execution_count": 51,
   "id": "331bd7f4",
   "metadata": {},
   "outputs": [],
   "source": [
    "from sklearn.metrics import accuracy_score"
   ]
  },
  {
   "cell_type": "code",
   "execution_count": 52,
   "id": "b114785c",
   "metadata": {},
   "outputs": [],
   "source": [
    "model.eval()\n",
    "with torch.no_grad():\n",
    "    outputs = model(X_test_tensor)\n",
    "    _, predicted = torch.max(outputs, 1)"
   ]
  },
  {
   "cell_type": "code",
   "execution_count": 53,
   "id": "cf97edc5",
   "metadata": {},
   "outputs": [],
   "source": [
    "y_pred = predicted.numpy()\n",
    "y_true = y_test_tensor.numpy()"
   ]
  },
  {
   "cell_type": "code",
   "execution_count": 54,
   "id": "90c39df7",
   "metadata": {},
   "outputs": [
    {
     "name": "stdout",
     "output_type": "stream",
     "text": [
      "Accuracy: 0.8297101449275363\n",
      "Classification Report:\n",
      "              precision    recall  f1-score   support\n",
      "\n",
      "           0       0.72      0.94      0.82       112\n",
      "           1       0.95      0.76      0.84       164\n",
      "\n",
      "    accuracy                           0.83       276\n",
      "   macro avg       0.84      0.85      0.83       276\n",
      "weighted avg       0.86      0.83      0.83       276\n",
      "\n"
     ]
    }
   ],
   "source": [
    "print(\"Accuracy:\", accuracy_score(y_true, y_pred))\n",
    "print(\"Classification Report:\")\n",
    "print(classification_report(y_true, y_pred))"
   ]
  },
  {
   "cell_type": "code",
   "execution_count": 55,
   "id": "6ada04d6",
   "metadata": {},
   "outputs": [],
   "source": [
    "torch.save(model.state_dict(), \"../ml/model_pytorch.pt\")"
   ]
  },
  {
   "cell_type": "code",
   "execution_count": 56,
   "id": "d32e2aca",
   "metadata": {},
   "outputs": [],
   "source": [
    "#Load model\n",
    "#model = HeartModel(input_dim=X_test.shape[1])\n",
    "#model.load_state_dict(torch.load(\"ml/heart_model.pt\"))\n",
    "#model.eval()"
   ]
  }
 ],
 "metadata": {
  "kernelspec": {
   "display_name": "base",
   "language": "python",
   "name": "python3"
  },
  "language_info": {
   "codemirror_mode": {
    "name": "ipython",
    "version": 3
   },
   "file_extension": ".py",
   "mimetype": "text/x-python",
   "name": "python",
   "nbconvert_exporter": "python",
   "pygments_lexer": "ipython3",
   "version": "3.12.7"
  }
 },
 "nbformat": 4,
 "nbformat_minor": 5
}
