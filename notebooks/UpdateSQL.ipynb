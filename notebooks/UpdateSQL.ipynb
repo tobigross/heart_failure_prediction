{
 "cells": [
  {
   "cell_type": "code",
   "execution_count": 8,
   "id": "17d1705f",
   "metadata": {},
   "outputs": [
    {
     "name": "stderr",
     "output_type": "stream",
     "text": [
      "C:\\Users\\tobig\\AppData\\Local\\Temp\\ipykernel_7732\\200088213.py:12: UserWarning: pandas only supports SQLAlchemy connectable (engine/connection) or database string URI or sqlite3 DBAPI2 connection. Other DBAPI2 objects are not tested. Please consider using SQLAlchemy.\n",
      "  df = pd.read_sql(\"SELECT * FROM patients_numeric\", conn)\n"
     ]
    }
   ],
   "source": [
    "import pandas as pd\n",
    "import psycopg2\n",
    "\n",
    "conn = psycopg2.connect(\n",
    "    host=\"localhost\",\n",
    "    port=\"5432\",\n",
    "    database=\"patients\",\n",
    "    user=\"postgres\",\n",
    "    password=\"xamyadt123\"\n",
    ")\n",
    "\n",
    "df = pd.read_sql(\"SELECT * FROM patients_numeric\", conn)"
   ]
  },
  {
   "cell_type": "code",
   "execution_count": 9,
   "id": "48d59dcf",
   "metadata": {},
   "outputs": [
    {
     "name": "stdout",
     "output_type": "stream",
     "text": [
      "      age  sex  chestpaintype  restingbp  cholesterol  fastingbs  restingecg  \\\n",
      "0    40.0    1              0      140.0        289.0          0           0   \n",
      "1    49.0    0              1      160.0        180.0          0           0   \n",
      "2    37.0    1              0      130.0        283.0          0           1   \n",
      "3    48.0    0              2      138.0        214.0          0           0   \n",
      "4    54.0    1              1      150.0        195.0          0           0   \n",
      "..    ...  ...            ...        ...          ...        ...         ...   \n",
      "913  45.0    1              3      110.0        264.0          0           0   \n",
      "914  68.0    1              2      144.0        193.0          1           0   \n",
      "915  57.0    1              2      130.0        131.0          0           0   \n",
      "916  57.0    0              0      130.0        236.0          0           2   \n",
      "917  38.0    1              1      138.0        175.0          0           0   \n",
      "\n",
      "     maxhr  exerciseangina  oldpeak  st_slope  target_class  \n",
      "0    172.0               0      0.0         0             0  \n",
      "1    156.0               0      1.0         1             1  \n",
      "2     98.0               0      0.0         0             0  \n",
      "3    108.0               1      1.5         1             1  \n",
      "4    122.0               0      0.0         0             0  \n",
      "..     ...             ...      ...       ...           ...  \n",
      "913  132.0               0      1.2         1             1  \n",
      "914  141.0               0      3.4         1             1  \n",
      "915  115.0               1      1.2         1             1  \n",
      "916  174.0               0      0.0         1             1  \n",
      "917  173.0               0      0.0         0             0  \n",
      "\n",
      "[918 rows x 12 columns]\n"
     ]
    }
   ],
   "source": [
    "print(df)"
   ]
  },
  {
   "cell_type": "code",
   "execution_count": 10,
   "id": "4f5b4e49",
   "metadata": {},
   "outputs": [
    {
     "name": "stdout",
     "output_type": "stream",
     "text": [
      "['Age', 'Sex', 'ChestPainType', 'RestingBP', 'Cholesterol', 'FastingBS', 'RestingECG', 'MaxHR', 'ExerciseAngina', 'Oldpeak', 'ST_Slope', 'target_class']\n",
      "['Age', 'RestingBP', 'Cholesterol', 'FastingBS', 'MaxHR', 'Oldpeak', 'Sex_F', 'Sex_M', 'ChestPainType_ASY', 'ChestPainType_ATA', 'ChestPainType_NAP', 'ChestPainType_TA', 'RestingECG_LVH', 'RestingECG_Normal', 'RestingECG_ST', 'ExerciseAngina_N', 'ExerciseAngina_Y', 'ST_Slope_Down', 'ST_Slope_Flat', 'ST_Slope_Up']\n"
     ]
    }
   ],
   "source": [
    "import pandas as pd\n",
    "import joblib\n",
    "\n",
    "# Modell laden\n",
    "model = joblib.load(\"../ml/model_sklearn.pkl\")\n",
    "\n",
    "# Trainingsspalten laden\n",
    "with open(\"../ml/training_columns.txt\") as f:\n",
    "    training_columns = [line.strip() for line in f]\n",
    "df.rename(columns={\n",
    "    'age': 'Age',\n",
    "    'sex': 'Sex',\n",
    "    'chestpaintype':'ChestPainType',\n",
    "    'restingbp': 'RestingBP',\n",
    "    'cholesterol': 'Cholesterol',\n",
    "    'fastingbs': 'FastingBS',\n",
    "    'maxhr': 'MaxHR',\n",
    "    'oldpeak': 'Oldpeak',\n",
    "    'restingecg':'RestingECG',\n",
    "    'exerciseangina':'ExerciseAngina',\n",
    "    'st_slope':'ST_Slope',\n",
    "}, inplace=True)\n",
    "\n",
    "print(df.columns.tolist())\n",
    "print(training_columns)\n",
    "\n",
    "# Reihenfolge der Spalten sicherstellen\n",
    "#df_encoded = df[training_columns]\n",
    "\n",
    "# Vorhersage\n",
    "#df[\"prediction\"] = model.predict(df_encoded)"
   ]
  },
  {
   "cell_type": "code",
   "execution_count": 11,
   "id": "4a8a0748",
   "metadata": {},
   "outputs": [
    {
     "name": "stdout",
     "output_type": "stream",
     "text": [
      "      Age  Sex  ChestPainType  RestingBP  Cholesterol  FastingBS  RestingECG  \\\n",
      "0    40.0    1              0      140.0        289.0          0           0   \n",
      "1    49.0    0              1      160.0        180.0          0           0   \n",
      "2    37.0    1              0      130.0        283.0          0           1   \n",
      "3    48.0    0              2      138.0        214.0          0           0   \n",
      "4    54.0    1              1      150.0        195.0          0           0   \n",
      "..    ...  ...            ...        ...          ...        ...         ...   \n",
      "913  45.0    1              3      110.0        264.0          0           0   \n",
      "914  68.0    1              2      144.0        193.0          1           0   \n",
      "915  57.0    1              2      130.0        131.0          0           0   \n",
      "916  57.0    0              0      130.0        236.0          0           2   \n",
      "917  38.0    1              1      138.0        175.0          0           0   \n",
      "\n",
      "     MaxHR  ExerciseAngina  Oldpeak  ST_Slope  \n",
      "0    172.0               0      0.0         0  \n",
      "1    156.0               0      1.0         1  \n",
      "2     98.0               0      0.0         0  \n",
      "3    108.0               1      1.5         1  \n",
      "4    122.0               0      0.0         0  \n",
      "..     ...             ...      ...       ...  \n",
      "913  132.0               0      1.2         1  \n",
      "914  141.0               0      3.4         1  \n",
      "915  115.0               1      1.2         1  \n",
      "916  174.0               0      0.0         1  \n",
      "917  173.0               0      0.0         0  \n",
      "\n",
      "[918 rows x 11 columns]\n"
     ]
    }
   ],
   "source": [
    "X=df.drop(\"target_class\", axis=1)\n",
    "print(X)"
   ]
  },
  {
   "cell_type": "code",
   "execution_count": 12,
   "id": "aa2b2a5d",
   "metadata": {},
   "outputs": [
    {
     "name": "stdout",
     "output_type": "stream",
     "text": [
      "      Age  Sex  ChestPainType  RestingBP  Cholesterol  FastingBS  RestingECG  \\\n",
      "0    40.0    1              0      140.0        289.0          0           0   \n",
      "1    49.0    0              1      160.0        180.0          0           0   \n",
      "2    37.0    1              0      130.0        283.0          0           1   \n",
      "3    48.0    0              2      138.0        214.0          0           0   \n",
      "4    54.0    1              1      150.0        195.0          0           0   \n",
      "..    ...  ...            ...        ...          ...        ...         ...   \n",
      "913  45.0    1              3      110.0        264.0          0           0   \n",
      "914  68.0    1              2      144.0        193.0          1           0   \n",
      "915  57.0    1              2      130.0        131.0          0           0   \n",
      "916  57.0    0              0      130.0        236.0          0           2   \n",
      "917  38.0    1              1      138.0        175.0          0           0   \n",
      "\n",
      "     MaxHR  ExerciseAngina  Oldpeak  ST_Slope  \n",
      "0    172.0               0      0.0         0  \n",
      "1    156.0               0      1.0         1  \n",
      "2     98.0               0      0.0         0  \n",
      "3    108.0               1      1.5         1  \n",
      "4    122.0               0      0.0         0  \n",
      "..     ...             ...      ...       ...  \n",
      "913  132.0               0      1.2         1  \n",
      "914  141.0               0      3.4         1  \n",
      "915  115.0               1      1.2         1  \n",
      "916  174.0               0      0.0         1  \n",
      "917  173.0               0      0.0         0  \n",
      "\n",
      "[918 rows x 11 columns]\n"
     ]
    }
   ],
   "source": [
    "\n",
    "X_hot= pd.get_dummies(X)\n",
    "print(X_hot)"
   ]
  }
 ],
 "metadata": {
  "kernelspec": {
   "display_name": "base",
   "language": "python",
   "name": "python3"
  },
  "language_info": {
   "codemirror_mode": {
    "name": "ipython",
    "version": 3
   },
   "file_extension": ".py",
   "mimetype": "text/x-python",
   "name": "python",
   "nbconvert_exporter": "python",
   "pygments_lexer": "ipython3",
   "version": "3.12.7"
  }
 },
 "nbformat": 4,
 "nbformat_minor": 5
}
